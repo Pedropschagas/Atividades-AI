{
  "nbformat": 4,
  "nbformat_minor": 0,
  "metadata": {
    "colab": {
      "provenance": [],
      "authorship_tag": "ABX9TyNxW7kwIW3HNTJHibBdcL/V",
      "include_colab_link": true
    },
    "kernelspec": {
      "name": "python3",
      "display_name": "Python 3"
    },
    "language_info": {
      "name": "python"
    }
  },
  "cells": [
    {
      "cell_type": "markdown",
      "metadata": {
        "id": "view-in-github",
        "colab_type": "text"
      },
      "source": [
        "<a href=\"https://colab.research.google.com/github/Pedropschagas/Atividades-AI/blob/main/Atividade_IA.ipynb\" target=\"_parent\"><img src=\"https://colab.research.google.com/assets/colab-badge.svg\" alt=\"Open In Colab\"/></a>"
      ]
    },
    {
      "cell_type": "markdown",
      "source": [
        "Questão 1"
      ],
      "metadata": {
        "id": "mid3qExJLkUE"
      }
    },
    {
      "cell_type": "markdown",
      "source": [
        "                  X4 >= 135.2?\n",
        "               > /             \\<\n",
        "              X2               X3\n",
        "        ALTO/    \\BAIXO    NÃO/   \\SIM\n",
        "          Y = 0   Y =1     Y = 1    Y = 0\n",
        "\n"
      ],
      "metadata": {
        "id": "FSVdyqQxNrf6"
      }
    },
    {
      "cell_type": "markdown",
      "source": [
        "QUESTÃO 2"
      ],
      "metadata": {
        "id": "Dvo4sRIpapfH"
      }
    },
    {
      "cell_type": "markdown",
      "source": [
        "if (x4 < 135.2) {\n",
        "   if (x2 == ALTO) {\n",
        "    Y = 1\n",
        "   } else { Y = 0}}\n",
        "\n",
        "if (x4 >= 135.2) {\n",
        "  if (x3 == NÃO) {\n",
        "    Y = 1\n",
        "  } else { Y = 0}}\n"
      ],
      "metadata": {
        "id": "6P7mSzGYaxn8"
      }
    },
    {
      "cell_type": "code",
      "source": [],
      "metadata": {
        "id": "KPVuTYGRe7ar"
      },
      "execution_count": null,
      "outputs": []
    }
  ]
}