{
  "nbformat": 4,
  "nbformat_minor": 0,
  "metadata": {
    "colab": {
      "provenance": []
    },
    "kernelspec": {
      "name": "python3",
      "display_name": "Python 3"
    },
    "language_info": {
      "name": "python"
    }
  },
  "cells": [
    {
      "cell_type": "markdown",
      "source": [
        "Questão 1"
      ],
      "metadata": {
        "id": "mid3qExJLkUE"
      }
    },
    {
      "cell_type": "markdown",
      "source": [
        "          X4 >= 135.2?\n",
        "\n",
        "\n"
      ],
      "metadata": {
        "id": "FSVdyqQxNrf6"
      }
    }
  ]
}